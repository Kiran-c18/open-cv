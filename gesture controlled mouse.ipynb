{
 "cells": [
  {
   "cell_type": "code",
   "execution_count": 2,
   "id": "c8c4fa4b",
   "metadata": {},
   "outputs": [],
   "source": [
    "import cv2\n",
    "import mediapipe as mp\n",
    "import pyautogui\n"
   ]
  },
  {
   "cell_type": "code",
   "execution_count": 5,
   "id": "b7faefb0",
   "metadata": {},
   "outputs": [],
   "source": [
    "cam=cv2.VideoCapture(0)\n",
    "capture_hands=mp.solutions.hands.Hands()\n",
    "drawing_utils=mp.solutions.drawing_utils\n",
    "screen_width,screen_height = pyautogui.size()\n",
    "while True:\n",
    "    _,image=cam.read()\n",
    "    image_height,image_width,_=image.shape\n",
    "    image=cv2.flip(image,1)#arrange camera accordingly\n",
    "    rgb_image=cv2.cvtColor(image,cv2.COLOR_BGR2RGB)\n",
    "    output_hands=capture_hands.process(rgb_image)\n",
    "    all_the_hands =output_hands.multi_hand_landmarks\n",
    "    if all_the_hands:#capturing landmark in  all hands\n",
    "        for hand in all_the_hands:\n",
    "            drawing_utils.draw_landmarks(image,hand)\n",
    "            #capturing landmark in one hand\n",
    "            one_hand_landmarks = hand.landmark\n",
    "            for id,lm in enumerate(one_hand_landmarks):\n",
    "                x=int(lm.x*image_width)\n",
    "                y=int(lm.y*image_height)\n",
    "                #print(x,y)\n",
    "                if id==8:\n",
    "                    mouse_x=int(screen_width/image_width *x)\n",
    "                    mouse_y=int(screen_height/image_height *y)\n",
    "                    cv2.circle(image,(x,y),10,(0,255,0))\n",
    "                    pyautogui.moveTo(mouse_x,mouse_y)\n",
    "                    x1=x\n",
    "                    y1=y\n",
    "                if id==4:\n",
    "                    cv2.circle(image,(x,y),10,(0,255,255))\n",
    "                    x2=x\n",
    "                    y2=y\n",
    "        dist=y2-y1\n",
    "        #print(dist)\n",
    "        if (dist<20):\n",
    "            pyautogui.click()\n",
    "                \n",
    "    cv2.imshow('gesture control mouse',image)#to show the video\n",
    "    key=cv2.waitKey(100)\n",
    "    if key==27: #for closing the video using escape key\n",
    "        break\n",
    "        \n",
    "cam.release()\n",
    "cv2.destroyAllWindows()"
   ]
  },
  {
   "cell_type": "code",
   "execution_count": null,
   "id": "b1e83239",
   "metadata": {},
   "outputs": [],
   "source": []
  }
 ],
 "metadata": {
  "kernelspec": {
   "display_name": "Python 3 (ipykernel)",
   "language": "python",
   "name": "python3"
  },
  "language_info": {
   "codemirror_mode": {
    "name": "ipython",
    "version": 3
   },
   "file_extension": ".py",
   "mimetype": "text/x-python",
   "name": "python",
   "nbconvert_exporter": "python",
   "pygments_lexer": "ipython3",
   "version": "3.11.5"
  }
 },
 "nbformat": 4,
 "nbformat_minor": 5
}
