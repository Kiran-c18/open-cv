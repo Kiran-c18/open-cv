{
 "cells": [
  {
   "cell_type": "code",
   "execution_count": 1,
   "id": "a1c912f1",
   "metadata": {},
   "outputs": [],
   "source": [
    "import cv2\n",
    "import mediapipe as mp\n",
    "import pyautogui"
   ]
  },
  {
   "cell_type": "code",
   "execution_count": 5,
   "id": "3bb28b7d",
   "metadata": {},
   "outputs": [
    {
     "name": "stdout",
     "output_type": "stream",
     "text": [
      "Mouse clicked\n",
      "Mouse clicked\n",
      "Mouse clicked\n",
      "Mouse clicked\n",
      "Mouse clicked\n",
      "Mouse clicked\n",
      "Mouse clicked\n",
      "Mouse clicked\n"
     ]
    }
   ],
   "source": [
    "cam = cv2.VideoCapture(0)\n",
    "face_mesh_landmarks=mp.solutions.face_mesh.FaceMesh(refine_landmarks=True)\n",
    "screen_w,screen_h = pyautogui.size()\n",
    "while True:\n",
    "    _,image=cam.read()\n",
    "    image = cv2.flip(image,1)\n",
    "    window_h,window_w,_=image.shape\n",
    "    rgb_image=cv2.cvtColor(image,cv2.COLOR_BGR2RGB) #converting image to rgb format\n",
    "    processed_image=face_mesh_landmarks.process(rgb_image)\n",
    "    all_face_landmark_points = processed_image.multi_face_landmarks\n",
    "    if all_face_landmark_points:\n",
    "        one_face_landmark_points = all_face_landmark_points[0].landmark\n",
    "        for id,landmark_point in enumerate(one_face_landmark_points[474:478]):\n",
    "            x=int(landmark_point.x* window_w)\n",
    "            y=int(landmark_point.y* window_h)\n",
    "            #print(x,y)\n",
    "            if id==1:\n",
    "                mouse_x = int(screen_w/window_w *x)\n",
    "                mouse_y = int(screen_h/window_h *y)\n",
    "                pyautogui.moveTo(mouse_x,mouse_y)\n",
    "                \n",
    "            cv2.circle(image,(x,y),3,(0,0,255))\n",
    "        left_eye = [one_face_landmark_points[145],one_face_landmark_points[159]]\n",
    "        for landmark_point in left_eye:\n",
    "            x=int(landmark_point.x* window_w)\n",
    "            y=int(landmark_point.y* window_h)\n",
    "            #print(x,y)\n",
    "            cv2.circle(image,(x,y),3,(0,255,255))\n",
    "        if(left_eye[0].y-left_eye[1].y<0.01):\n",
    "            pyautogui.click()\n",
    "            pyautogui.sleep(2)\n",
    "            print('Mouse clicked')\n",
    "        \n",
    "    cv2.imshow('Eye controlled mouse',image)\n",
    "    key=cv2.waitKey(100)\n",
    "    if key==27:\n",
    "        break\n",
    "cam.release()\n",
    "cv2.destroyAllWindows()"
   ]
  },
  {
   "cell_type": "code",
   "execution_count": null,
   "id": "3fd82988",
   "metadata": {},
   "outputs": [],
   "source": []
  }
 ],
 "metadata": {
  "kernelspec": {
   "display_name": "Python 3 (ipykernel)",
   "language": "python",
   "name": "python3"
  },
  "language_info": {
   "codemirror_mode": {
    "name": "ipython",
    "version": 3
   },
   "file_extension": ".py",
   "mimetype": "text/x-python",
   "name": "python",
   "nbconvert_exporter": "python",
   "pygments_lexer": "ipython3",
   "version": "3.11.5"
  }
 },
 "nbformat": 4,
 "nbformat_minor": 5
}
